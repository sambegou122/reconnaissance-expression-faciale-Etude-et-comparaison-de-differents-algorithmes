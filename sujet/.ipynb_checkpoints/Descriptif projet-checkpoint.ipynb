{
 "cells": [
  {
   "cell_type": "markdown",
   "id": "bc74ff93",
   "metadata": {},
   "source": [
    "Dans le cadre de ce projet, vous allez essayer de réaliser un classifieur capable de reconnaître six expressions faciales : \n",
    "1. happy\n",
    "2. fear\n",
    "3. surprise\n",
    "4. anger\n",
    "5. disgust\n",
    "6. sadness\n",
    "\n",
    "Vous utiliserez les 68 points faciaux qui délimitent des regions spécifiques du visage.\n",
    "\n",
    "![Points faciaux](facial_schema.jpeg)"
   ]
  },
  {
   "cell_type": "markdown",
   "id": "7d1e60fd",
   "metadata": {},
   "source": [
    "## Dataset\n",
    "\n",
    "Les données sont issues du dataset `CK+` contenant des personnes mimant chacune une série des expressions. Vous trouverez dans le fichier `ck+_lands.zip` l'ensemble des fichiers `csv` décrivant le dataset. \n",
    "\n",
    "Un premier fichier `emotion.csv` contenu à la racine, rappelle les sujets, les sessions et les expressions produites. Certaines personnes ne vont effectuer qu'un sous-ensemble d'expressions.  Comme le montre le début du fichier ci-dessous, le sujet S005 a réalisé une session d'enregistrement de l'expression `disgust`. Le sujet S010 a réalisé 6 sessions d'enregistrement de chacun des expressions\n",
    "\n",
    "    S005;001;5\n",
    "    S010;001;2\n",
    "    S010;002;3\n",
    "    S010;003;6\n",
    "    S010;004;4\n",
    "    S010;005;5\n",
    "    S010;006;1"
   ]
  },
  {
   "cell_type": "markdown",
   "id": "1ddbaf29",
   "metadata": {},
   "source": [
    "Ensuite, par sujet, un fichier `omlands.csv` se trouve dans le dossier correspondant au sujet (`./S010` pour le sujet S010). Ce fichier regroupe l'ensemble des repères faciaux concernant un sujet pour l'ensemble des sessions d'enregistrement. Une ligne représente une image. La première colonne est le numéro de session et les autres colonnes sont les coordonnées des repères faciaux de `x1`, `y1` à `x68`, `y68`.\n",
    "\n",
    "    001; 527; 475; 527; 536; ... ; 730; 695; \n",
    "    001; 527; 475; 527; 536; ... ; 730; 695; \n",
    "    ...\n",
    "    002; 524; 474; 524; 535; ... ; 728; 701; \n",
    "    ...\n",
    "\n",
    "Chaque session comporte plusieurs images de la même expression. Dans chaque session la première image correspond à une image neutre et la dernière image à l'expression à son plus fort niveau d'intensité (apex). Par exemple le sujet `S010` a réalisé 6 sessions de 14, 14, 18, 19, 16, 15 images pour les expressions de 1 à 6, respectivement. \n",
    "\n",
    "À partir de ces données vous pouvez visualiser les points faciaux associés aux différentes expressions. Ci-dessous, vous en avez quelques illustrations:\n",
    "![Différentes expressions pour différentes personnes](diff_expr_diff_persons.png)\n",
    "![Différentes expressions pour une même personnes](diff_expr_same_person.png)"
   ]
  },
  {
   "cell_type": "markdown",
   "id": "1a56a0b6",
   "metadata": {},
   "source": [
    "## Attendus sur le projet\n",
    "\n",
    "### Premières approches\n",
    "\n",
    "L’objectif premier est d’essayer de prédire la colonne `emotion` du fichier `emotion.csv` en s'appuyant sur les points faciaux disponibles dans les fichiers `SXXX/omlands.csv`.\n",
    "\n",
    "Pour caractériser une expression vous pouvez utilisez différentes approches parmis lesquelles\n",
    "\n",
    "1. considérer les coordonnées des points\n",
    "2. considérer le déplacement des points entre l'image neutre et l'image apex\n",
    "\n",
    "Les visages peuvent se trouver à différents endroits dans l'image. Ils peuvent également être de tailles différentes. Il peut être intéressant d'essayer d'aligner les visages de telle sorte que les visages soient alignés par rapport aux yeux et au nez (points stables indépendamment de l'expression). Ainsi, dans vos expérimentations, vous pourrez utiliser les points tels quels sont ou bien en les remettant dans un repère commun (comme illustré ci-dessous). Essayez les deux approches.\n",
    "\n",
    "![Expressions de joie non-alignées](happy_expr_not_aligned.png)\n",
    "![Expressions de joie alignées](happy_expr_aligned.png)"
   ]
  },
  {
   "cell_type": "markdown",
   "id": "a37a75e7",
   "metadata": {},
   "source": [
    "### Deuxième approche: gestion du déséquilibre\n",
    "\n",
    "Dans un deuxième temps, comme le dataset est très déséquilibré, vous construirez une nouvelle version du dataset qui garantit l'équilibre entre le nombre d'instances de chaque expression. Est-ce que les résultats varient beaucoup par rapport à la configuration initiale ? Commentez."
   ]
  },
  {
   "cell_type": "markdown",
   "id": "df8a68e4",
   "metadata": {},
   "source": [
    "### Troisème approche : les occultations\n",
    "\n",
    "Une occultation résulte dans l'indisponibilité d'un certain sous-ensemble des points. Par exemple, une occultation de l'oeil gauche se traduit par l'absence des points (37 à 42) et une occultation de la bouche se traduit par l'absence de points (49-68). Du bruit peut être également ajouté artificiellement à certains points en modifiant leur valeur.\n",
    "\n",
    "Dans un troisième temps, vous étudierez les performances en présence d'occultations et bruitages faciaux. La question principale est de savoir jusqu'à quel point les techniques d'apprentissage proposées dans les questions précédentes sont robustes à ces altérations et bruitages en termes d'étendue et d'intensité. \n",
    "\n",
    "1. Codez différentes occultations et différents bruitages en partant des petites regions autour des éléments significatifs tels que les yeux, les sourcils, la bouche et en allant jusqu'à des larges occultations cachant la moitié du visage.\n",
    "2. Répondez à la question principale ci-dessus en vous appuyant sur une quantification, c'est-à-dire par des mesures adéquates   \n"
   ]
  },
  {
   "cell_type": "markdown",
   "id": "6dca17f4",
   "metadata": {},
   "source": [
    "## Travail en binôme\n",
    "\n",
    "- Chaque membre rend le notebook final composé en binôme\n",
    "- Les noms des auteurs apparaissent clairement dans le nom du fichier `projet_nom1_nom2.ipynb` et dans une cellule en tête du notebook.\n",
    "\n",
    "\n",
    "## Examen des données\n",
    "Les travaux comprennent ou impliquent :\n",
    "\n",
    "1. Une préparation des données, chargement, mise en forme, organisation à réaliser en numpy, pandas à partir des données distribuées \n",
    "1. Une analyse descriptive et statistique des données\n",
    "1. Des graphiques illustrant cela\n",
    "1. Une interprétation des résultats de ces analyses et de ces graphiques. C’est le point le plus important. Afficher des lignes de code avec des chiffres ne suffit pas : il faut que vous donniez votre interprétation de ce que vous cherchez et de ce que vous observez. À vous de guider le lecteur !\n",
    "1. Une préparation pour l’apprentissage\n",
    "\n",
    "Les travaux comprennent ou impliquent :\n",
    "\n",
    "1. Des transformations éventuelles des données justifiées par cette analyse\n",
    "1. De tester plusieurs algorithmes\n",
    "1. De faire une estimation de l’erreur réelle de vos modèles,\n",
    "1. De comparer des modèles\n",
    "1. De sélectionner de bons hyperparamètres\n",
    "1. D’étudier les performances en fonction de la taille des données\n",
    "1. D’étudier quels attributs peuvent être conservés ou retirés pour construire des modèles performants\n",
    "1. De reporter les temps d’exécution pour l’apprentissage et l’application des modèles\n",
    "1. De données des courbes d’apprentissage en fonction de la complexité des classes de fonction considérées\n",
    "1. Et toujours et c’est le plus important : de justifier vos décisions et de commenter vos observations et résultats.\n",
    "\n",
    "\n",
    "## Remarques\n",
    "* Avant de rendre votre document, relancez le noyau : Redémarrer et tout exécuter ; enregistrez\n",
    "* Évitez les boucles for le plus possible. Reposez-vous sur les opérations matricielles de numy ou pandas.\n",
    "* N’utilisez pas les programmes de descente de gradient, ou de découpage des données, de validation croisée implantées par vos soins. Ils ont été demandés pour que vous compreniez ce qui se passe. Maintenant utilisez les fonctions proposées (et optimisées) par les librairies pandas, numpy ou sklearn."
   ]
  },
  {
   "cell_type": "code",
   "execution_count": null,
   "id": "028a5c89",
   "metadata": {},
   "outputs": [],
   "source": []
  },
  {
   "cell_type": "code",
   "execution_count": null,
   "id": "347b5491",
   "metadata": {},
   "outputs": [],
   "source": []
  }
 ],
 "metadata": {
  "kernelspec": {
   "display_name": "Python 3 (ipykernel)",
   "language": "python",
   "name": "python3"
  },
  "language_info": {
   "codemirror_mode": {
    "name": "ipython",
    "version": 3
   },
   "file_extension": ".py",
   "mimetype": "text/x-python",
   "name": "python",
   "nbconvert_exporter": "python",
   "pygments_lexer": "ipython3",
   "version": "3.9.12"
  }
 },
 "nbformat": 4,
 "nbformat_minor": 5
}
